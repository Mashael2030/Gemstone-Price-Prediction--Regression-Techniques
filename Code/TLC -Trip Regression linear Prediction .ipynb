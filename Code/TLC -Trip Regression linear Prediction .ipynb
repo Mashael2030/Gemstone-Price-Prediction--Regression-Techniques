{
 "cells": [
  {
   "cell_type": "markdown",
   "id": "398763ef",
   "metadata": {},
   "source": [
    "# Import packages"
   ]
  },
  {
   "cell_type": "code",
   "execution_count": null,
   "id": "511d1ce4",
   "metadata": {},
   "outputs": [],
   "source": [
    "import pandas as pd\n",
    "import numpy as np\n",
    "import statsmodels.api as sm\n",
    "import statsmodels.formula.api as smf\n",
    "import patsy\n",
    "import seaborn as sns\n",
    "import matplotlib.pyplot as plt\n",
    "from datetime import date\n",
    "from sklearn import linear_model\n",
    "from sklearn.metrics import mean_squared_error, r2_score\n",
    "from sklearn.linear_model import LinearRegression\n",
    "from sklearn.model_selection import KFold\n",
    "from sklearn.linear_model import RidgeCV\n",
    "from sklearn.model_selection import train_test_split\n",
    "from sklearn.model_selection i8mport train_test_split\n",
    "from sklearn.linear_model import LinearRegression, Ridge #ordinary linear regression + w/ ridge regularization\n",
    "from sklearn.preprocessing import StandardScaler, PolynomialFeatures\n",
    "from sklearn.linear_model import Lasso\n",
    "import warnings\n",
    "warnings.filterwarnings('ignore')\n",
    "%matplotlib inline\n",
    "%config InlineBackend.figure_format = 'svg'"
   ]
  },
  {
   "cell_type": "markdown",
   "id": "8d21af09",
   "metadata": {},
   "source": [
    "## Get the Data"
   ]
  },
  {
   "cell_type": "code",
   "execution_count": null,
   "id": "a939f1bd",
   "metadata": {},
   "outputs": [],
   "source": [
    "df = pd.read_csv('yellow_tripdata_2021-03.csv') # Load tha dataset\n",
    "df"
   ]
  },
  {
   "cell_type": "markdown",
   "id": "de4175c5",
   "metadata": {},
   "source": [
    "### Take a Quick Look at the Data Structure"
   ]
  },
  {
   "cell_type": "code",
   "execution_count": null,
   "id": "5785767e",
   "metadata": {},
   "outputs": [],
   "source": [
    "df.shape"
   ]
  },
  {
   "cell_type": "code",
   "execution_count": null,
   "id": "ce71de1a",
   "metadata": {},
   "outputs": [],
   "source": [
    "df.sample(5)"
   ]
  },
  {
   "cell_type": "code",
   "execution_count": null,
   "id": "96264183",
   "metadata": {},
   "outputs": [],
   "source": [
    "df.head()"
   ]
  },
  {
   "cell_type": "code",
   "execution_count": null,
   "id": "b8b81f99",
   "metadata": {},
   "outputs": [],
   "source": [
    "df.info()"
   ]
  },
  {
   "cell_type": "code",
   "execution_count": null,
   "id": "089abe33",
   "metadata": {},
   "outputs": [],
   "source": [
    "df.describe()"
   ]
  },
  {
   "cell_type": "markdown",
   "id": "8e010be1",
   "metadata": {},
   "source": [
    "## Data Splitting"
   ]
  },
  {
   "cell_type": "code",
   "execution_count": null,
   "id": "d7250552",
   "metadata": {},
   "outputs": [],
   "source": [
    "df_train , df_test = train_test_split(df , test_size=.2, random_state=10)"
   ]
  },
  {
   "cell_type": "code",
   "execution_count": null,
   "id": "c622855f",
   "metadata": {},
   "outputs": [],
   "source": [
    "df_train, df_val = train_test_split(df_train, test_size=.25, random_state=5)"
   ]
  },
  {
   "cell_type": "markdown",
   "id": "d431eebc",
   "metadata": {},
   "source": [
    "## Cleaning Training/ Validation / Test Data "
   ]
  },
  {
   "cell_type": "code",
   "execution_count": null,
   "id": "33dfece2",
   "metadata": {},
   "outputs": [],
   "source": [
    "df_train.shape"
   ]
  },
  {
   "cell_type": "code",
   "execution_count": null,
   "id": "d8d009ec",
   "metadata": {},
   "outputs": [],
   "source": [
    "df_val.shape"
   ]
  },
  {
   "cell_type": "code",
   "execution_count": null,
   "id": "144684f3",
   "metadata": {},
   "outputs": [],
   "source": [
    "df_test.shape"
   ]
  },
  {
   "cell_type": "code",
   "execution_count": null,
   "id": "81dd8c04",
   "metadata": {},
   "outputs": [],
   "source": [
    "nulls = df_train.isnull().sum().to_frame()# (to_frame():Convert Series to DataFrame),(sum():To sum the number of missing values),(isnull()to detect missing values)\n",
    "nulls.columns = [\"Missing values\"] \n",
    "nulls"
   ]
  },
  {
   "cell_type": "code",
   "execution_count": null,
   "id": "5c4709d2",
   "metadata": {},
   "outputs": [],
   "source": [
    "df_train = df_train.dropna(how ='any')"
   ]
  },
  {
   "cell_type": "code",
   "execution_count": null,
   "id": "959f974e",
   "metadata": {},
   "outputs": [],
   "source": [
    "nulls = df_train.isnull().sum().to_frame()# (to_frame():Convert Series to DataFrame),(sum():To sum the number of missing values),(isnull()to detect missing values)\n",
    "nulls.columns = [\"Missing values\"] \n",
    "nulls"
   ]
  },
  {
   "cell_type": "code",
   "execution_count": null,
   "id": "6f0a3bbd",
   "metadata": {},
   "outputs": [],
   "source": [
    "#----------------- df_val ---------------------#"
   ]
  },
  {
   "cell_type": "code",
   "execution_count": null,
   "id": "e5764455",
   "metadata": {},
   "outputs": [],
   "source": [
    "nulls = df_val.isnull().sum().to_frame()# (to_frame():Convert Series to DataFrame),(sum():To sum the number of missing values),(isnull()to detect missing values)\n",
    "nulls.columns = [\"Missing values\"]\n",
    "nulls"
   ]
  },
  {
   "cell_type": "code",
   "execution_count": null,
   "id": "d9c5887e",
   "metadata": {},
   "outputs": [],
   "source": [
    "df_val = df_val.dropna(how ='any')"
   ]
  },
  {
   "cell_type": "code",
   "execution_count": null,
   "id": "a74c4452",
   "metadata": {},
   "outputs": [],
   "source": [
    "nulls = df_val.isnull().sum().to_frame()# (to_frame():Convert Series to DataFrame),(sum():To sum the number of missing values),(isnull()to detect missing values)\n",
    "nulls.columns = [\"Missing values\"]\n",
    "nulls"
   ]
  },
  {
   "cell_type": "code",
   "execution_count": null,
   "id": "1813cb28",
   "metadata": {},
   "outputs": [],
   "source": [
    "#----------------- df_test ---------------------#"
   ]
  },
  {
   "cell_type": "code",
   "execution_count": null,
   "id": "7781ba93",
   "metadata": {},
   "outputs": [],
   "source": [
    "nulls = df_test.isnull().sum().to_frame()# (to_frame():Convert Series to DataFrame),(sum():To sum the number of missing values),(isnull()to detect missing values)\n",
    "nulls.columns = [\"Missing values\"]\n",
    "nulls"
   ]
  },
  {
   "cell_type": "code",
   "execution_count": null,
   "id": "1170201d",
   "metadata": {},
   "outputs": [],
   "source": [
    "df_test = df_test.dropna(how ='any')"
   ]
  },
  {
   "cell_type": "code",
   "execution_count": null,
   "id": "08de181a",
   "metadata": {},
   "outputs": [],
   "source": [
    "nulls = df_test.isnull().sum().to_frame()# (to_frame():Convert Series to DataFrame),(sum():To sum the number of missing values),(isnull()to detect missing values)\n",
    "nulls.columns = [\"Missing values\"]\n",
    "nulls"
   ]
  },
  {
   "cell_type": "markdown",
   "id": "cd6feb87",
   "metadata": {},
   "source": [
    "#### In this step, it took the hours pick up and days of capture and put them in new columns"
   ]
  },
  {
   "cell_type": "code",
   "execution_count": null,
   "id": "7a0e8bc0",
   "metadata": {},
   "outputs": [],
   "source": [
    "##--------------------- train ---------------------## "
   ]
  },
  {
   "cell_type": "code",
   "execution_count": null,
   "id": "921183d0",
   "metadata": {},
   "outputs": [],
   "source": [
    "df_train['Day'] = pd.to_datetime(df_train['tpep_pickup_datetime']).dt.day"
   ]
  },
  {
   "cell_type": "code",
   "execution_count": null,
   "id": "d3efc4ce",
   "metadata": {},
   "outputs": [],
   "source": [
    "df_train['Hour_pickup'] = pd.to_datetime(df_train['tpep_pickup_datetime']).dt.hour\n",
    "df_train"
   ]
  },
  {
   "cell_type": "code",
   "execution_count": null,
   "id": "82e6f814",
   "metadata": {},
   "outputs": [],
   "source": [
    "df1_train= df_train.drop(df_train[df_train.Day < 20 ].index)\n",
    "df1_train"
   ]
  },
  {
   "cell_type": "code",
   "execution_count": null,
   "id": "2df279e7",
   "metadata": {},
   "outputs": [],
   "source": [
    "df1_train['Day'] = pd.to_datetime(df_train['tpep_pickup_datetime']).dt.weekday"
   ]
  },
  {
   "cell_type": "code",
   "execution_count": null,
   "id": "4a4325e9",
   "metadata": {},
   "outputs": [],
   "source": [
    "##----------------------------- val ----------------------##"
   ]
  },
  {
   "cell_type": "code",
   "execution_count": null,
   "id": "86af9187",
   "metadata": {},
   "outputs": [],
   "source": [
    "df_val['Day'] = pd.to_datetime(df_val['tpep_pickup_datetime']).dt.day"
   ]
  },
  {
   "cell_type": "code",
   "execution_count": null,
   "id": "eb53845d",
   "metadata": {},
   "outputs": [],
   "source": [
    "df_val['Hour_pickup'] = pd.to_datetime(df_val['tpep_pickup_datetime']).dt.hour\n",
    "df_val"
   ]
  },
  {
   "cell_type": "code",
   "execution_count": null,
   "id": "ff961b89",
   "metadata": {},
   "outputs": [],
   "source": [
    "df1_val= df_val.drop(df_val[df_val.Day < 20 ].index)\n",
    "df1_val"
   ]
  },
  {
   "cell_type": "code",
   "execution_count": null,
   "id": "9aabf269",
   "metadata": {},
   "outputs": [],
   "source": [
    "df1_val['Day'] = pd.to_datetime(df_val['tpep_pickup_datetime']).dt.weekday"
   ]
  },
  {
   "cell_type": "code",
   "execution_count": null,
   "id": "93724be9",
   "metadata": {},
   "outputs": [],
   "source": [
    "##----------------------------- Test ----------------------##"
   ]
  },
  {
   "cell_type": "code",
   "execution_count": null,
   "id": "8b689aad",
   "metadata": {},
   "outputs": [],
   "source": [
    "df_test['Day'] = pd.to_datetime(df_test['tpep_pickup_datetime']).dt.day"
   ]
  },
  {
   "cell_type": "code",
   "execution_count": null,
   "id": "55b04744",
   "metadata": {},
   "outputs": [],
   "source": [
    "df_test['Hour_pickup'] = pd.to_datetime(df_test['tpep_pickup_datetime']).dt.hour\n",
    "df_test"
   ]
  },
  {
   "cell_type": "code",
   "execution_count": null,
   "id": "416f9292",
   "metadata": {},
   "outputs": [],
   "source": [
    "df1_test= df_test.drop(df_test[df_test.Day < 20 ].index)\n",
    "df1_test"
   ]
  },
  {
   "cell_type": "markdown",
   "id": "5e4e2799",
   "metadata": {},
   "source": [
    "#### In this step, delete some columns the unimportant "
   ]
  },
  {
   "cell_type": "code",
   "execution_count": null,
   "id": "ad74e62f",
   "metadata": {},
   "outputs": [],
   "source": [
    "#----------------- df_train ---------------------#"
   ]
  },
  {
   "cell_type": "code",
   "execution_count": null,
   "id": "fbb1fc4e",
   "metadata": {},
   "outputs": [],
   "source": [
    "df1_train.drop(['store_and_fwd_flag', 'PULocationID','DOLocationID','tpep_pickup_datetime','tpep_dropoff_datetime']\n",
    "         ,axis=1, inplace=True ) # delete four columns ,(axis=1:refers to column dimension)"
   ]
  },
  {
   "cell_type": "code",
   "execution_count": null,
   "id": "f74d3612",
   "metadata": {},
   "outputs": [],
   "source": [
    "#----------------- df_val ---------------------#"
   ]
  },
  {
   "cell_type": "code",
   "execution_count": null,
   "id": "ce659d59",
   "metadata": {},
   "outputs": [],
   "source": [
    "df1_val.drop(['store_and_fwd_flag', 'PULocationID','DOLocationID','tpep_pickup_datetime','tpep_dropoff_datetime']\n",
    "            ,axis=1, inplace=True ) # delete four columns ,(axis=1:refers to column dimension)"
   ]
  },
  {
   "cell_type": "code",
   "execution_count": null,
   "id": "ad2053fd",
   "metadata": {},
   "outputs": [],
   "source": [
    "#----------------- df_test ---------------------#"
   ]
  },
  {
   "cell_type": "code",
   "execution_count": null,
   "id": "0f6c7a5b",
   "metadata": {},
   "outputs": [],
   "source": [
    "df1_test.drop(['store_and_fwd_flag', 'PULocationID','DOLocationID','tpep_pickup_datetime','tpep_dropoff_datetime']\n",
    "         ,axis=1, inplace=True ) # delete four columns ,(axis=1:refers to column dimension)"
   ]
  },
  {
   "cell_type": "markdown",
   "id": "5b3b7810",
   "metadata": {},
   "source": [
    "#### Delete some duplicate values"
   ]
  },
  {
   "cell_type": "code",
   "execution_count": null,
   "id": "89a79b57",
   "metadata": {},
   "outputs": [],
   "source": [
    "duplicate = df1_train.duplicated()\n",
    "print(duplicate.sum())\n",
    "df1_train[duplicate]"
   ]
  },
  {
   "cell_type": "code",
   "execution_count": null,
   "id": "005abf58",
   "metadata": {},
   "outputs": [],
   "source": [
    "df1_train.drop_duplicates(inplace=True)"
   ]
  },
  {
   "cell_type": "code",
   "execution_count": null,
   "id": "522bdc80",
   "metadata": {},
   "outputs": [],
   "source": [
    "duplicate = df1_train.duplicated()\n",
    "print(duplicate.sum())\n",
    "df1_train[duplicate]"
   ]
  },
  {
   "cell_type": "code",
   "execution_count": null,
   "id": "eeb0ec98",
   "metadata": {},
   "outputs": [],
   "source": [
    "#----------------- df_val ---------------------#"
   ]
  },
  {
   "cell_type": "code",
   "execution_count": null,
   "id": "a6fe387d",
   "metadata": {},
   "outputs": [],
   "source": [
    "duplicate = df1_val.duplicated()\n",
    "print(duplicate.sum())\n",
    "df1_val[duplicate]"
   ]
  },
  {
   "cell_type": "code",
   "execution_count": null,
   "id": "2d98714e",
   "metadata": {},
   "outputs": [],
   "source": [
    "df1_val.drop_duplicates(inplace=True)"
   ]
  },
  {
   "cell_type": "code",
   "execution_count": null,
   "id": "5cbca5eb",
   "metadata": {},
   "outputs": [],
   "source": [
    "duplicate = df1_val.duplicated()\n",
    "print(duplicate.sum())\n",
    "df1_val[duplicate]"
   ]
  },
  {
   "cell_type": "code",
   "execution_count": null,
   "id": "7ade78d7",
   "metadata": {},
   "outputs": [],
   "source": [
    "#----------------- df_test ---------------------"
   ]
  },
  {
   "cell_type": "code",
   "execution_count": null,
   "id": "747304ac",
   "metadata": {},
   "outputs": [],
   "source": [
    "duplicate = df1_test.duplicated()\n",
    "print(duplicate.sum())\n",
    "df1_test[duplicate]"
   ]
  },
  {
   "cell_type": "code",
   "execution_count": null,
   "id": "f4100518",
   "metadata": {},
   "outputs": [],
   "source": [
    "df1_test.drop_duplicates(inplace=True)"
   ]
  },
  {
   "cell_type": "code",
   "execution_count": null,
   "id": "de3986ec",
   "metadata": {},
   "outputs": [],
   "source": [
    "duplicate = df1_test.duplicated()\n",
    "print(duplicate.sum())\n",
    "df1_test[duplicate]"
   ]
  },
  {
   "cell_type": "code",
   "execution_count": null,
   "id": "965df24d",
   "metadata": {},
   "outputs": [],
   "source": [
    "Day_hours = df1_train.groupby('Hour_pickup').Day.value_counts().sort_values(ascending=False)\n",
    "Day_hours"
   ]
  },
  {
   "cell_type": "code",
   "execution_count": null,
   "id": "8dbe032e",
   "metadata": {},
   "outputs": [],
   "source": [
    "#df1_train.copy()"
   ]
  },
  {
   "cell_type": "markdown",
   "id": "7ad8d0f0",
   "metadata": {},
   "source": [
    "### Looking for Correlations"
   ]
  },
  {
   "cell_type": "code",
   "execution_count": null,
   "id": "b8fd6e9e",
   "metadata": {},
   "outputs": [],
   "source": [
    "df1_train.corr()"
   ]
  },
  {
   "cell_type": "code",
   "execution_count": null,
   "id": "8e762d58",
   "metadata": {},
   "outputs": [],
   "source": [
    "train_corr = df1_train.corr()"
   ]
  },
  {
   "cell_type": "code",
   "execution_count": null,
   "id": "7a1480e7",
   "metadata": {},
   "outputs": [],
   "source": [
    "train_corr[\"fare_amount\"].sort_values(ascending=False)"
   ]
  },
  {
   "cell_type": "markdown",
   "id": "ffa67ae0",
   "metadata": {},
   "source": [
    "# visualization for train"
   ]
  },
  {
   "cell_type": "code",
   "execution_count": null,
   "id": "c823a2d1",
   "metadata": {},
   "outputs": [],
   "source": [
    "plt.figure(figsize =[15,15])\n",
    "sns.heatmap(df1_train.corr(),cmap=\"seismic\",annot=True, vmin=-1, vmax=1, linewidths=.5);\n",
    "plt.savefig('plot15.png', dpi = 400, bbox_inches = 'tight');"
   ]
  },
  {
   "cell_type": "code",
   "execution_count": null,
   "id": "c3c8047d",
   "metadata": {},
   "outputs": [],
   "source": [
    "sns.pairplot(df1_train)"
   ]
  },
  {
   "cell_type": "code",
   "execution_count": null,
   "id": "2eedc478",
   "metadata": {},
   "outputs": [],
   "source": [
    "df1_train.plot(kind=\"scatter\", x=\"trip_distance\", y=\"fare_amount\");"
   ]
  },
  {
   "cell_type": "code",
   "execution_count": null,
   "id": "2117cacb",
   "metadata": {},
   "outputs": [],
   "source": [
    "df1_train.plot(kind=\"scatter\", x=\"fare_amount\", y=\"tolls_amount\");"
   ]
  },
  {
   "cell_type": "code",
   "execution_count": null,
   "id": "f2b19755",
   "metadata": {},
   "outputs": [],
   "source": [
    "df1_train.plot(kind=\"scatter\", x=\"tip_amount\", y=\"tolls_amount\", alpha=0.1);"
   ]
  },
  {
   "cell_type": "code",
   "execution_count": null,
   "id": "c9e627e8",
   "metadata": {},
   "outputs": [],
   "source": [
    "attributes = [\"fare_amount\", \"trip_distance\", \"tolls_amount\",\n",
    "              \"tip_amount\",\"improvement_surcharge\"]\n",
    "scatter_matrix(df1_train[attributes], figsize=(12, 8));"
   ]
  },
  {
   "cell_type": "code",
   "execution_count": null,
   "id": "05820831",
   "metadata": {},
   "outputs": [],
   "source": [
    " ##------------------ End of Code Train -----------------##"
   ]
  },
  {
   "cell_type": "markdown",
   "id": "2475dea7",
   "metadata": {},
   "source": [
    "# Building and Evaluating the Model"
   ]
  },
  {
   "cell_type": "code",
   "execution_count": null,
   "id": "24df5f7b",
   "metadata": {},
   "outputs": [],
   "source": [
    "#spilt df_train to X and y"
   ]
  },
  {
   "cell_type": "code",
   "execution_count": null,
   "id": "b138998b",
   "metadata": {},
   "outputs": [],
   "source": [
    "X , y = df1_train[['trip_distance','tip_amount','tolls_amount','improvement_surcharge','congestion_surcharge']], df1_train['fare_amount']"
   ]
  },
  {
   "cell_type": "markdown",
   "id": "23d649f6",
   "metadata": {},
   "source": [
    "### 1. Liner Regression"
   ]
  },
  {
   "cell_type": "code",
   "execution_count": null,
   "id": "1d020eac",
   "metadata": {},
   "outputs": [],
   "source": [
    "#--------------------- train -----------------#"
   ]
  },
  {
   "cell_type": "code",
   "execution_count": null,
   "id": "ae1dc0b9",
   "metadata": {},
   "outputs": [],
   "source": [
    "lr = linear_model.LinearRegression()\n",
    "lr.fit(X,y)"
   ]
  },
  {
   "cell_type": "code",
   "execution_count": null,
   "id": "12519121",
   "metadata": {},
   "outputs": [],
   "source": [
    "lr.score(X,y)"
   ]
  },
  {
   "cell_type": "code",
   "execution_count": null,
   "id": "614fd02a",
   "metadata": {},
   "outputs": [],
   "source": [
    "#--------------------- val -----------------#"
   ]
  },
  {
   "cell_type": "code",
   "execution_count": null,
   "id": "9e58ba2b",
   "metadata": {},
   "outputs": [],
   "source": [
    "X_val , y_val = df1_val[['trip_distance','tip_amount','tolls_amount','improvement_surcharge','congestion_surcharge']], df1_val['fare_amount']"
   ]
  },
  {
   "cell_type": "markdown",
   "id": "8a04d2f2",
   "metadata": {},
   "source": [
    "# ***only fit on traininggggggggggggggggggggggggggggggggggggggggggggggggggggggggggggggggggg***"
   ]
  },
  {
   "cell_type": "code",
   "execution_count": null,
   "id": "691f485c",
   "metadata": {},
   "outputs": [],
   "source": [
    "lr.score(X_val,y_val)"
   ]
  },
  {
   "cell_type": "code",
   "execution_count": null,
   "id": "ad2f50c7",
   "metadata": {},
   "outputs": [],
   "source": [
    "y_pred = lr.predict(X_val)"
   ]
  },
  {
   "cell_type": "markdown",
   "id": "0c996801",
   "metadata": {},
   "source": [
    "### Model after improvement"
   ]
  },
  {
   "cell_type": "code",
   "execution_count": null,
   "id": "13720c6f",
   "metadata": {},
   "outputs": [],
   "source": [
    "##--------------------- train -----------------"
   ]
  },
  {
   "cell_type": "code",
   "execution_count": null,
   "id": "774f9063",
   "metadata": {
    "scrolled": true
   },
   "outputs": [],
   "source": [
    "df1_train['RatecodeID'] = df1_train.RatecodeID.astype('category')\n",
    "df1_train['RatecodeID']"
   ]
  },
  {
   "cell_type": "code",
   "execution_count": null,
   "id": "914e0328",
   "metadata": {},
   "outputs": [],
   "source": [
    "df1_train.info()"
   ]
  },
  {
   "cell_type": "code",
   "execution_count": null,
   "id": "e978fabf",
   "metadata": {},
   "outputs": [],
   "source": [
    "df_dummies_train = pd.get_dummies(data=df1_train)\n",
    "df_dummies_train.head()"
   ]
  },
  {
   "cell_type": "code",
   "execution_count": null,
   "id": "2d0e6ddd",
   "metadata": {},
   "outputs": [],
   "source": [
    "X , y = df_dummies_train[['trip_distance','RatecodeID_1.0','RatecodeID_2.0','tip_amount','tolls_amount','improvement_surcharge','congestion_surcharge','Hour_pickup','Day']], df_dummies_train['fare_amount']"
   ]
  },
  {
   "cell_type": "code",
   "execution_count": null,
   "id": "5d0e413e",
   "metadata": {},
   "outputs": [],
   "source": [
    "lr = linear_model.LinearRegression()\n",
    "lr.fit(X,y)"
   ]
  },
  {
   "cell_type": "code",
   "execution_count": null,
   "id": "9f3f87e3",
   "metadata": {},
   "outputs": [],
   "source": [
    "lr.score(X,y)"
   ]
  },
  {
   "cell_type": "code",
   "execution_count": null,
   "id": "95a6956a",
   "metadata": {},
   "outputs": [],
   "source": [
    "#--------------------- Val dummies -----------------"
   ]
  },
  {
   "cell_type": "code",
   "execution_count": null,
   "id": "38d1426d",
   "metadata": {},
   "outputs": [],
   "source": [
    "df1_val['RatecodeID'] = df1_val.RatecodeID.astype('category')\n",
    "df1_val['RatecodeID']"
   ]
  },
  {
   "cell_type": "code",
   "execution_count": null,
   "id": "328088c9",
   "metadata": {},
   "outputs": [],
   "source": [
    "df_dummies_val = pd.get_dummies(data=df1_val)\n",
    "df_dummies_val.head()"
   ]
  },
  {
   "cell_type": "code",
   "execution_count": null,
   "id": "042dc23d",
   "metadata": {},
   "outputs": [],
   "source": [
    "X_val , y_val = df_dummies_val[['trip_distance','RatecodeID_1.0','RatecodeID_2.0','tip_amount','tolls_amount','improvement_surcharge','congestion_surcharge','Hour_pickup','Day']], df_dummies_val['fare_amount']"
   ]
  },
  {
   "cell_type": "code",
   "execution_count": null,
   "id": "1b5aa102",
   "metadata": {},
   "outputs": [],
   "source": [
    "lr.score(X_val,y_val)"
   ]
  },
  {
   "cell_type": "code",
   "execution_count": null,
   "id": "6b2baa50",
   "metadata": {},
   "outputs": [],
   "source": [
    "y_pred = lr.predict(X_val)"
   ]
  },
  {
   "cell_type": "code",
   "execution_count": null,
   "id": "ee50b579",
   "metadata": {},
   "outputs": [],
   "source": [
    "fig, ax = plt.subplots(figsize=(7,7))\n",
    "ax.scatter(y_val, y_pred)\n",
    "ax.plot([y_val.min(), y_val.max()], [y_val.min(), y_val.max()], 'k--', lw=4)\n",
    "ax.set_xlabel('Actual')\n",
    "ax.set_ylabel('Predicted')\n",
    "plt.savefig('plot15.png', dpi = 400, bbox_inches = 'tight');\n",
    "plt.show()"
   ]
  },
  {
   "cell_type": "code",
   "execution_count": null,
   "id": "29f8cf4d",
   "metadata": {},
   "outputs": [],
   "source": [
    "#--------------------- test -----------------"
   ]
  },
  {
   "cell_type": "code",
   "execution_count": null,
   "id": "2e3a1c97",
   "metadata": {},
   "outputs": [],
   "source": [
    "df1_test.info()"
   ]
  },
  {
   "cell_type": "code",
   "execution_count": null,
   "id": "b720d1ef",
   "metadata": {},
   "outputs": [],
   "source": [
    "df1_test['RatecodeID'] = df1_test.RatecodeID.astype('category')\n",
    "df1_test['RatecodeID']"
   ]
  },
  {
   "cell_type": "code",
   "execution_count": null,
   "id": "85961730",
   "metadata": {},
   "outputs": [],
   "source": [
    "df_dummies_test = pd.get_dummies(data=df1_test)\n",
    "df_dummies_test.head()"
   ]
  },
  {
   "cell_type": "code",
   "execution_count": null,
   "id": "c1d0503c",
   "metadata": {},
   "outputs": [],
   "source": [
    "X_test , y_test = df_dummies_test[['trip_distance','RatecodeID_1.0','RatecodeID_2.0','tip_amount','tolls_amount','improvement_surcharge','congestion_surcharge','Hour_pickup','Day']], df_dummies_test['fare_amount']"
   ]
  },
  {
   "cell_type": "code",
   "execution_count": null,
   "id": "42dc593e",
   "metadata": {},
   "outputs": [],
   "source": [
    "lr.score(X_test,y_test)"
   ]
  },
  {
   "cell_type": "code",
   "execution_count": null,
   "id": "6f5c03da",
   "metadata": {},
   "outputs": [],
   "source": [
    "fig, ax = plt.subplots(figsize=(7,7))\n",
    "ax.scatter(y_test, y_pred_test)\n",
    "ax.plot([y_test.min(), y_test.max()], [y_test.min(), y_test.max()], 'k--', lw=4)\n",
    "ax.set_xlabel('Actual')\n",
    "ax.set_ylabel('Predicted')\n",
    "plt.show()"
   ]
  },
  {
   "cell_type": "markdown",
   "id": "1774ccff",
   "metadata": {},
   "source": [
    "### Linear Polynomial"
   ]
  },
  {
   "cell_type": "code",
   "execution_count": null,
   "id": "24a77bba",
   "metadata": {},
   "outputs": [],
   "source": [
    "poly_features = PolynomialFeatures(degree= 2)\n",
    "# transforms the existing features to higher degree features.\n",
    "X_train_poly = poly_features.fit_transform(X)\n",
    "# fit the transformed features to Linear Regression\n",
    "poly_model = LinearRegression()\n",
    "poly_model.fit(X_train_poly, y)"
   ]
  },
  {
   "cell_type": "code",
   "execution_count": null,
   "id": "8045265a",
   "metadata": {},
   "outputs": [],
   "source": [
    "#--------------------- train -----------------"
   ]
  },
  {
   "cell_type": "code",
   "execution_count": null,
   "id": "183a2771",
   "metadata": {},
   "outputs": [],
   "source": [
    "# predicting on training data-set\n",
    "y_train_predicted = poly_model.predict(X_train_poly)\n",
    "# evaluating the model on training dataset\n",
    "rmse_train = np.sqrt(mean_squared_error(y, y_train_predicted))\n",
    "r2_train = r2_score(y, y_train_predicted)\n",
    "print('rmse = ',rmse_train)\n",
    "print('r2 = ',r2_train)"
   ]
  },
  {
   "cell_type": "code",
   "execution_count": null,
   "id": "1875c985",
   "metadata": {},
   "outputs": [],
   "source": [
    "#--------------------- val -----------------"
   ]
  },
  {
   "cell_type": "code",
   "execution_count": null,
   "id": "5e6bffc6",
   "metadata": {},
   "outputs": [],
   "source": [
    "# predicting on val data-set\n",
    "y_test_predict = poly_model.predict(poly_features.fit_transform(X_test))\n",
    "# evaluating the model on val dataset\n",
    "rmse_test = np.sqrt(mean_squared_error(y_test, y_test_predict))\n",
    "r2_test = r2_score(y_test, y_test_predict)\n",
    "print('rmse = ',rmse_test)\n",
    "print('r2 = ',r2_test)"
   ]
  },
  {
   "cell_type": "markdown",
   "id": "d6352ed2",
   "metadata": {},
   "source": [
    " ### Ridge"
   ]
  },
  {
   "cell_type": "code",
   "execution_count": null,
   "id": "45333a08",
   "metadata": {},
   "outputs": [],
   "source": [
    "#--------------------- train -----------------#"
   ]
  },
  {
   "cell_type": "code",
   "execution_count": null,
   "id": "4e60baa4",
   "metadata": {},
   "outputs": [],
   "source": [
    "rr = Ridge(alpha=0.1)\n",
    "rr.fit(X, y)\n",
    "pred_train_rr= rr.predict(X)\n",
    "print(np.sqrt(mean_squared_error(y,pred_train_rr)))\n",
    "print(r2_score(y, pred_train_rr))"
   ]
  },
  {
   "cell_type": "code",
   "execution_count": null,
   "id": "b584e254",
   "metadata": {},
   "outputs": [],
   "source": [
    "#--------------------- val -----------------#"
   ]
  },
  {
   "cell_type": "code",
   "execution_count": null,
   "id": "36a29170",
   "metadata": {},
   "outputs": [],
   "source": [
    "pred_val_rr= rr.predict(X_val)\n",
    "print(np.sqrt(mean_squared_error(y_val,pred_val_rr)))\n",
    "print(r2_score(y_val, pred_val_rr))"
   ]
  },
  {
   "cell_type": "code",
   "execution_count": null,
   "id": "8ff1f846",
   "metadata": {},
   "outputs": [],
   "source": [
    "pred_test_rr= rr.predict(X_test)\n",
    "print(np.sqrt(mean_squared_error(y_test,pred_test_rr)))\n",
    "print(r2_score(y_test, pred_test_rr))"
   ]
  },
  {
   "cell_type": "code",
   "execution_count": null,
   "id": "01d56949",
   "metadata": {},
   "outputs": [],
   "source": [
    "#--------------------- train -----------------"
   ]
  },
  {
   "cell_type": "code",
   "execution_count": null,
   "id": "765336c5",
   "metadata": {},
   "outputs": [],
   "source": [
    "model_lasso = Lasso(alpha=0.01)\n",
    "model_lasso.fit(X, y)\n",
    "pred_train_lasso= model_lasso.predict(X)\n",
    "print(np.sqrt(mean_squared_error(y,pred_train_lasso)))\n",
    "print(r2_score(y, pred_train_lasso))"
   ]
  },
  {
   "cell_type": "code",
   "execution_count": null,
   "id": "b0d610ca",
   "metadata": {},
   "outputs": [],
   "source": [
    "#--------------------- val -----------------"
   ]
  },
  {
   "cell_type": "code",
   "execution_count": null,
   "id": "9d22faa8",
   "metadata": {},
   "outputs": [],
   "source": [
    "pred_val_lasso= model_lasso.predict(X_val)\n",
    "print(np.sqrt(mean_squared_error(y_val,pred_val_lasso)))\n",
    "print(r2_score(y_val, pred_val_lasso))"
   ]
  },
  {
   "cell_type": "code",
   "execution_count": null,
   "id": "17e57024",
   "metadata": {},
   "outputs": [],
   "source": [
    "pred_test_lasso= model_lasso.predict(X_test)\n",
    "print(np.sqrt(mean_squared_error(y_test,pred_test_lasso)))\n",
    "print(r2_score(y_test, pred_test_lasso))"
   ]
  }
 ],
 "metadata": {
  "kernelspec": {
   "display_name": "Python 3",
   "language": "python",
   "name": "python3"
  },
  "language_info": {
   "codemirror_mode": {
    "name": "ipython",
    "version": 3
   },
   "file_extension": ".py",
   "mimetype": "text/x-python",
   "name": "python",
   "nbconvert_exporter": "python",
   "pygments_lexer": "ipython3",
   "version": "3.8.8"
  }
 },
 "nbformat": 4,
 "nbformat_minor": 5
}
